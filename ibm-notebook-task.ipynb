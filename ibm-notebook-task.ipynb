{
 "cells": [
  {
   "cell_type": "markdown",
   "id": "325363e5",
   "metadata": {},
   "source": [
    "# My notebook"
   ]
  },
  {
   "cell_type": "markdown",
   "id": "15f4c139",
   "metadata": {},
   "source": [
    "## Introduction"
   ]
  },
  {
   "cell_type": "markdown",
   "id": "e23436ff",
   "metadata": {},
   "source": [
    "## 1\n",
    "\n",
    "#### Python\n",
    "#### R\n",
    "#### Scala\n",
    "#### Java\n",
    "#### C++"
   ]
  },
  {
   "cell_type": "markdown",
   "id": "2a804ab6",
   "metadata": {},
   "source": [
    "## 2\n",
    "\n",
    "Numpy, Pandas, Scikit-Learn, Pytorch, Tensorflow/Keras, SciPy, Librosa, Seaborn, Matplotlib"
   ]
  },
  {
   "cell_type": "markdown",
   "id": "f6b797f7",
   "metadata": {},
   "source": [
    "## 3\n",
    "\n",
    "| Tool               | Description                              |\n",
    "|--------------------|------------------------------------------|\n",
    "| Python             | General-purpose programming language      |\n",
    "| R                  | Statistical computing language            |\n",
    "| MATLAB             | Numerical computing and simulation        |\n",
    "| SQL                | Database querying language                |\n",
    "| Tableau            | Data visualization and analytics platform |\n",
    "| TensorFlow         | Machine learning framework                |\n",
    "| scikit-learn       | Machine learning library for Python       |\n",
    "| PyTorch            | Deep learning framework                   |\n",
    "| Apache Hadoop      | Distributed data processing framework     |\n",
    "| Apache Spark       | Big data processing engine                |\n"
   ]
  },
  {
   "cell_type": "markdown",
   "id": "6d75ef0a",
   "metadata": {},
   "source": [
    "## 4\n",
    "\n",
    "- Addition: `3 + 5 = 8`\n",
    "- Subtraction: `10 - 4 = 6`\n",
    "- Multiplication: `2 * 6 = 12`\n",
    "- Division: `10 / 2 = 5`"
   ]
  },
  {
   "cell_type": "code",
   "execution_count": 1,
   "id": "ccb7dcaf",
   "metadata": {},
   "outputs": [
    {
     "name": "stdout",
     "output_type": "stream",
     "text": [
      "Product: 15\n",
      "Sum: 8\n"
     ]
    }
   ],
   "source": [
    "# Multiply and Add Numbers\n",
    "num1 = 5\n",
    "num2 = 3\n",
    "\n",
    "product = num1 * num2\n",
    "sum = num1 + num2\n",
    "\n",
    "print(\"Product:\", product)\n",
    "print(\"Sum:\", sum)"
   ]
  },
  {
   "cell_type": "code",
   "execution_count": 2,
   "id": "c6c702ed",
   "metadata": {},
   "outputs": [
    {
     "name": "stdout",
     "output_type": "stream",
     "text": [
      "Minutes: 150\n",
      "Hours: 2.5\n"
     ]
    }
   ],
   "source": [
    "# Convert Minutes to Hours\n",
    "minutes = 150\n",
    "\n",
    "hours = minutes / 60\n",
    "\n",
    "print(\"Minutes:\", minutes)\n",
    "print(\"Hours:\", hours)"
   ]
  },
  {
   "cell_type": "markdown",
   "id": "c118a3aa",
   "metadata": {},
   "source": [
    "Exercise 2 - Create a markdown cell with the title of the notebook. (1 pt)\n",
    "\n",
    "Exercise 3 - Create a markdown cell for an introduction. (1 pt)\n",
    "\n",
    "Exercise 4 - Create a markdown cell to list data science languages. (3 pts)\n",
    "\n",
    "Exercise 5 - Create a markdown cell to list data science libraries. (3 pts)\n",
    "\n",
    "Exercise 6 - Create a markdown cell with a table of Data Science tools. (3 pts)\n",
    "\n",
    "Exercise 7 - Create a markdown cell introducing arithmetic expression examples. (1 pt)\n",
    "\n",
    "Exercise 8 - Create a code cell to multiply and add numbers. (2 pts)\n",
    "\n",
    "Exercise 9 - Create a code cell to convert minutes to hours. (2 pts)\n",
    "\n",
    "Exercise 10 -Insert a markdown cell to list Objectives. (3 pts)\n",
    "\n",
    "Exercise 11 - Create a markdown cell to indicate the Author’s name. (2 pts)\n",
    "\n",
    "Exercise 12 - Share your notebook through GitHub (3 pts)\n",
    "\n",
    "Exercise 13 - Take a screenshot of the first page of the notebook. (1 pt)"
   ]
  },
  {
   "cell_type": "markdown",
   "id": "c9312281",
   "metadata": {},
   "source": [
    "The author of this notebook is [Nursat Kulymzhanov](https://github.com/qazaqkage).\n",
    "\n",
    "Feel free to reach out to the author if you have any questions or feedback regarding this notebook."
   ]
  }
 ],
 "metadata": {
  "kernelspec": {
   "display_name": "Python 3 (ipykernel)",
   "language": "python",
   "name": "python3"
  },
  "language_info": {
   "codemirror_mode": {
    "name": "ipython",
    "version": 3
   },
   "file_extension": ".py",
   "mimetype": "text/x-python",
   "name": "python",
   "nbconvert_exporter": "python",
   "pygments_lexer": "ipython3",
   "version": "3.9.7"
  }
 },
 "nbformat": 4,
 "nbformat_minor": 5
}
